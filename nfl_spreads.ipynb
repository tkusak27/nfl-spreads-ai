{
  "nbformat": 4,
  "nbformat_minor": 0,
  "metadata": {
    "colab": {
      "provenance": [],
      "mount_file_id": "1eRijY0D_cV6-3EDQT8GWRkrfzSmHnQsH",
      "authorship_tag": "ABX9TyOnqh+5hkFGXzZ9tiqCvyE9",
      "include_colab_link": true
    },
    "kernelspec": {
      "name": "python3",
      "display_name": "Python 3"
    },
    "language_info": {
      "name": "python"
    }
  },
  "cells": [
    {
      "cell_type": "markdown",
      "metadata": {
        "id": "view-in-github",
        "colab_type": "text"
      },
      "source": [
        "<a href=\"https://colab.research.google.com/github/tkusak27/nfl-spreads-ai/blob/main/nfl_spreads.ipynb\" target=\"_parent\"><img src=\"https://colab.research.google.com/assets/colab-badge.svg\" alt=\"Open In Colab\"/></a>"
      ]
    },
    {
      "cell_type": "markdown",
      "source": [
        "# Imports"
      ],
      "metadata": {
        "id": "94ZjhWoIup_4"
      }
    },
    {
      "cell_type": "code",
      "execution_count": 18,
      "metadata": {
        "id": "pNVnpohUsxNp"
      },
      "outputs": [],
      "source": [
        "# imports\n",
        "import os, sys, requests\n",
        "import tqdm\n",
        "import tqdm, csv\n",
        "import pandas as pd\n",
        "import numpy as np\n",
        "import gspread\n",
        "from google.colab import auth\n",
        "auth.authenticate_user()\n",
        "from google.auth import default\n",
        "from collections import defaultdict"
      ]
    },
    {
      "cell_type": "markdown",
      "source": [
        "# Reading spreadsheet\n"
      ],
      "metadata": {
        "id": "ZMZ5k6BCjUfA"
      }
    },
    {
      "cell_type": "code",
      "source": [
        "# reading spreadsheet\n",
        "\n",
        "# Authenticate Google Credentials\n",
        "creds, _ = default()\n",
        "gc = gspread.authorize(creds)\n",
        "\n",
        "# Open worksheet and record in Pandas DF\n",
        "worksheet = gc.open('nfl-spreads').sheet1\n",
        "rows = worksheet.get_all_values()\n",
        "df = pd.DataFrame.from_records(rows[1:], columns=rows[0])\n"
      ],
      "metadata": {
        "id": "29_EY0CNjXnT"
      },
      "execution_count": 20,
      "outputs": []
    },
    {
      "cell_type": "markdown",
      "source": [
        "# Effective Dictionary\n",
        "- Creating a dictionary to store more detailed information about a team to be tested during regression"
      ],
      "metadata": {
        "id": "dB0dB8xADSeM"
      }
    },
    {
      "cell_type": "code",
      "source": [
        "teams = defaultdict(dict)\n",
        "\n",
        "\n",
        "for index, row in df.iterrows():\n",
        "  # Data\n",
        "  week = int(row['week'])\n",
        "  home_spread = float(row['home_spread'])\n",
        "  home_ml = float(row['home_ml'])\n",
        "  away_ml = float(row['away_ml'])\n",
        "  ou = float(row['ou'])\n",
        "  home_score = int(row['home_score'])\n",
        "  away_score = int(row['away_score'])\n",
        "\n",
        "  #\n",
        "  team = {}\n",
        "\n",
        "\n"
      ],
      "metadata": {
        "colab": {
          "base_uri": "https://localhost:8080/",
          "height": 53
        },
        "id": "_1QSSbZEDYVa",
        "outputId": "c39d62d8-6fb4-4545-f280-b796832096d5"
      },
      "execution_count": 21,
      "outputs": [
        {
          "output_type": "execute_result",
          "data": {
            "text/plain": [
              "\"\\nfor index, row in df.iterrows():\\n  week = int(row['week'])\\n  home_spread = float(row['home_spread'])\\n  home_ml = float(row['home_ml'])\\n  away_ml = float(row['away_ml'])\\n  ou = float(row['ou'])\\n\\n  home_score = int(row['home_score'])\\n  away_score = int(row['away_score'])\\n\""
            ],
            "application/vnd.google.colaboratory.intrinsic+json": {
              "type": "string"
            }
          },
          "metadata": {},
          "execution_count": 21
        }
      ]
    },
    {
      "cell_type": "markdown",
      "source": [
        "# Spread Analysis"
      ],
      "metadata": {
        "id": "ePEmCITCaQR2"
      }
    },
    {
      "cell_type": "code",
      "source": [
        "# analyzing spreads\n",
        "games = 0\n",
        "\n",
        "# Home favorites\n",
        "hfws = 0\n",
        "hfls = 0\n",
        "hf_comp_ml = 0\n",
        "hfg = 0\n",
        "# spreads\n",
        "hsfg = 0\n",
        "hsfc = 0\n",
        "hsf_comp = 0\n",
        "\n",
        "# Away favorites\n",
        "afws = 0\n",
        "afls = 0\n",
        "af_comp_ml = 0\n",
        "afg = 0\n",
        "# spreads\n",
        "asfg = 0\n",
        "asfc = 0\n",
        "asf_comp = 0\n",
        "\n",
        "for index, row in df.iterrows():\n",
        "  games += 1\n",
        "\n",
        "  home_spread = float(row['home_spread'])\n",
        "  away_spread = float(row['away_spread'])\n",
        "\n",
        "  home_ml = int(row['home_ml'])\n",
        "  away_ml = int(row['away_ml'])\n",
        "\n",
        "  home_score = int(row['home_score'])\n",
        "  away_score = int(row['away_score'])\n",
        "\n",
        "  # if home is the favorite\n",
        "  if home_ml <= away_ml:\n",
        "    hfg += 1\n",
        "    hf_comp_ml += home_ml\n",
        "    # home wins\n",
        "    if home_score > away_score:\n",
        "      hfws += 1\n",
        "    else:\n",
        "      hfls += 1\n",
        "  # away is the favorite\n",
        "  else:\n",
        "    afg += 1\n",
        "    af_comp_ml += away_ml\n",
        "    # home wins\n",
        "    if home_score > away_score:\n",
        "      afls += 1\n",
        "    else:\n",
        "      afws += 1\n",
        "\n",
        "  if home_spread <= away_spread:\n",
        "    hsfg += 1\n",
        "    hsf_comp += home_spread\n",
        "    if home_score + home_spread > away_score:\n",
        "       hsfc += 1\n",
        "  else:\n",
        "    asfg += 1\n",
        "    asf_comp += away_spread\n",
        "    if away_score + away_spread > home_score:\n",
        "      asfc += 1\n",
        "\n",
        "\n",
        "print(f\"Home favorites win {100 * (hfws / hfg):.2f}% of the time and on average odds are {(hf_comp_ml / hfg):.2f}\")\n",
        "print(f\"Away favorites win {100 * (afws / afg):.2f}% of the time and on average odds are {(af_comp_ml / afg):.2f}\" )\n",
        "\n",
        "print(f\"Home spread favorites cover {100 * (hsfc / hsfg):.2f}% of the time and on average odds are {(hsf_comp / hsfg):.2f}\")\n",
        "print(f\"Away spread favorites cover {100 * (asfc / asfg):.2f}% of the time and on average odds are {(asf_comp / asfg):.2f}\")"
      ],
      "metadata": {
        "colab": {
          "base_uri": "https://localhost:8080/"
        },
        "id": "Kz6pcXjgaRmw",
        "outputId": "a3fab5d7-1a32-4980-e8cb-72804839dddc"
      },
      "execution_count": 22,
      "outputs": [
        {
          "output_type": "stream",
          "name": "stdout",
          "text": [
            "Home favorites win 68.18% of the time and on average odds are -310.89\n",
            "Away favorites win 65.00% of the time and on average odds are -195.33\n",
            "Home spread favorites cover 54.65% of the time and on average odds are -5.43\n",
            "Away spread favorites cover 48.39% of the time and on average odds are -3.52\n"
          ]
        }
      ]
    },
    {
      "cell_type": "markdown",
      "source": [
        "# Clustering\n",
        "\n",
        "\n",
        "- CONTINUE - need to run clustering data more accurately based on the different weeks and outcomes"
      ],
      "metadata": {
        "id": "rapVwj8YHyrF"
      }
    },
    {
      "cell_type": "code",
      "source": [
        "from sklearn.cluster import KMeans\n",
        "from sklearn.metrics import homogeneity_completeness_v_measure\n",
        "import numpy as np\n",
        "import tqdm\n",
        "\n",
        "exps = {}\n",
        "\n",
        "data = [[float(row['home_spread']), int(row['home_score'])] for index, row in df.iterrows()]\n",
        "\n",
        "for k in tqdm.tqdm(range(1,8)):\n",
        "  exps[k] = {}\n",
        "  kmeans = KMeans(n_clusters=k, n_init='auto').fit(data)\n",
        "  hcv = homogeneity_completeness_v_measure(df['home_score'],kmeans.labels_)\n",
        "  print( hcv)\n",
        "  exps[k]['h'],exps[k]['c'],exps[k]['v'] = hcv\n",
        "\n",
        "\n",
        "import matplotlib.pyplot as plt\n",
        "\n",
        "plt.scatter([i[0] for i in data], [i[1] for i in data])\n",
        "plt.show()\n",
        "\n",
        "\n",
        "krange = range(1,8)\n",
        "plt.plot(krange,[exps[k]['h'] for k in krange],label='h score')\n",
        "plt.plot(krange,[exps[k]['c'] for k in krange],label='c score')\n",
        "plt.plot(krange,[exps[k]['v'] for k in krange],label='v score')\n",
        "plt.legend()\n",
        "plt.show()"
      ],
      "metadata": {
        "colab": {
          "base_uri": "https://localhost:8080/",
          "height": 986
        },
        "id": "vdJzhXz6EYT5",
        "outputId": "db076893-8717-48a7-8ee4-91d0f0829818"
      },
      "execution_count": 23,
      "outputs": [
        {
          "output_type": "stream",
          "name": "stderr",
          "text": [
            "100%|██████████| 7/7 [00:00<00:00, 56.95it/s]"
          ]
        },
        {
          "output_type": "stream",
          "name": "stdout",
          "text": [
            "(0.0, 1.0, 0.0)\n",
            "(0.1837543827980445, 0.898368429205393, 0.3051024050186299)\n",
            "(0.25462651396459807, 0.8886095857947977, 0.39582997974622025)\n",
            "(0.27537266065092203, 0.6752732797925045, 0.39121147382420773)\n",
            "(0.34109123334562125, 0.7217426461538778, 0.4632522430517318)\n",
            "(0.3577003252559662, 0.7413568991297954, 0.48256559907094454)\n",
            "(0.39379933871308276, 0.7278299187433731, 0.5110760775743481)\n"
          ]
        },
        {
          "output_type": "stream",
          "name": "stderr",
          "text": [
            "\n"
          ]
        },
        {
          "output_type": "display_data",
          "data": {
            "text/plain": [
              "<Figure size 640x480 with 1 Axes>"
            ],
            "image/png": "[encoded data removed]"
          },
          "metadata": {}
        },
        {
          "output_type": "display_data",
          "data": {
            "text/plain": [
              "<Figure size 640x480 with 1 Axes>"
            ],
            "image/png": "[encoded data removed]"
          },
          "metadata": {}
        }
      ]
    },
    {
      "cell_type": "markdown",
      "source": [
        "# Spreads - Linear Regression Testing"
      ],
      "metadata": {
        "id": "vCth4T1dsk0j"
      }
    },
    {
      "cell_type": "code",
      "source": [
        "# Want to test data vs labels\n",
        "# Data: home spread\n",
        "# Label: Cover vs no cover\n",
        "from sklearn.linear_model import LogisticRegression\n",
        "from sklearn.discriminant_analysis import LinearDiscriminantAnalysis\n",
        "from sklearn.metrics import accuracy_score\n",
        "from sklearn.discriminant_analysis import QuadraticDiscriminantAnalysis\n",
        "from sklearn.tree import DecisionTreeClassifier\n",
        "from sklearn.neighbors import KNeighborsClassifier\n",
        "from sklearn.svm import LinearSVC, SVC\n",
        "from sklearn.model_selection import cross_val_score\n",
        "from sklearn.model_selection import LeaveOneOut\n",
        "from sklearn.base import clone\n",
        "\n",
        "MY_RANDOM_STATE = 26\n",
        "\n",
        "tags =        [\"LR\", \"LDA\", \"DTC\"]\n",
        "\n",
        "results = defaultdict(list)\n",
        "\n",
        "for i in range(2, 11):\n",
        "  last_week = i\n",
        "  xtrain = []\n",
        "  ytrain = []\n",
        "  xtest = []\n",
        "  test_tags = []\n",
        "  actual = []\n",
        "\n",
        "  for index, row in df.iterrows():\n",
        "    week = int(row['week'])\n",
        "    home_spread = float(row['home_spread'])\n",
        "    home_ml = float(row['home_ml'])\n",
        "    away_ml = float(row['away_ml'])\n",
        "    ou = float(row['ou'])\n",
        "\n",
        "    home_score = int(row['home_score'])\n",
        "    away_score = int(row['away_score'])\n",
        "\n",
        "    appender = [home_spread, home_ml, ou, week]\n",
        "\n",
        "    # which week we want to test\n",
        "    if week == last_week:\n",
        "      xtest.append(appender)\n",
        "      test_tags.append(int(row['game_id']))\n",
        "      if home_score + home_spread > away_score:\n",
        "        actual.append(\"HC\")\n",
        "      elif home_score + home_spread < away_score:\n",
        "        actual.append(\"AC\")\n",
        "      else:\n",
        "        actual.append(\"PU\")\n",
        "    # collect training data of all weeks except that one\n",
        "    elif week in set(i for i in range(1,last_week)):\n",
        "      xtrain.append(appender)\n",
        "      if home_score + home_spread > away_score:\n",
        "        ytrain.append(\"HC\")\n",
        "      elif home_score + home_spread < away_score:\n",
        "        ytrain.append(\"AC\")\n",
        "      else:\n",
        "        ytrain.append(\"PU\")\n",
        "\n",
        "\n",
        "  classifiers =   [ LogisticRegression(random_state=MY_RANDOM_STATE,max_iter=1000),\n",
        "                    LinearDiscriminantAnalysis(),\n",
        "                    DecisionTreeClassifier(random_state=MY_RANDOM_STATE)]\n",
        "\n",
        "  for (tag, classifier) in zip(tags, classifiers):\n",
        "    classifier.fit(xtrain, ytrain)\n",
        "    prediction = classifier.predict(xtest)\n",
        "    accuracy = accuracy_score(actual, prediction)\n",
        "    results[tag].append(accuracy)\n",
        "\n",
        "\n",
        "for key, value in results.items():\n",
        "  print(f\"{key}: {value}\")"
      ],
      "metadata": {
        "id": "j5rkf_H1JmEu",
        "colab": {
          "base_uri": "https://localhost:8080/"
        },
        "outputId": "2e23cfd0-287d-4be5-b970-50949bc747fe"
      },
      "execution_count": 85,
      "outputs": [
        {
          "output_type": "stream",
          "name": "stdout",
          "text": [
            "LR: [0.4375, 0.4666666666666667, 0.5, 0.42857142857142855, 0.7142857142857143, 0.6153846153846154, 0.5625, 0.5714285714285714, 0.42857142857142855]\n",
            "LDA: [0.4375, 0.4666666666666667, 0.5, 0.42857142857142855, 0.7857142857142857, 0.6153846153846154, 0.5625, 0.5714285714285714, 0.42857142857142855]\n",
            "DTC: [0.375, 0.4, 0.75, 0.2857142857142857, 0.5, 0.6923076923076923, 0.625, 0.5, 0.5714285714285714]\n"
          ]
        }
      ]
    },
    {
      "cell_type": "markdown",
      "source": [
        "# Over-under analysis\n"
      ],
      "metadata": {
        "id": "SuS2zf45aOTW"
      }
    },
    {
      "cell_type": "code",
      "source": [
        "weeks   = []\n",
        "ous     = []\n",
        "hits    = []\n",
        "\n",
        "totals = defaultdict(list)\n",
        "\n",
        "# grab totals data\n",
        "for index, row in df.iterrows():\n",
        "  week = int(row['week'])\n",
        "  id = int(row['game_id'])\n",
        "  total = float(row['total'])\n",
        "  ou = float(row['ou'])\n",
        "\n",
        "  if week not in totals:\n",
        "    totals[week] = []\n",
        "\n",
        "  if total > ou:\n",
        "    totals[week].append((id, 1, total - ou, ou))\n",
        "  elif total == ou:\n",
        "    totals[week].append((id, 0, total - ou, ou))\n",
        "  else:\n",
        "    totals[week].append((id, -1, total - ou, ou))\n",
        "\n",
        "\n",
        "winners, differences = [], []\n",
        "weekly_averages = []\n",
        "for key, value in totals.items():\n",
        "  winners.append(sum(tup[1] for tup in value))\n",
        "  differences.append(sum(tup[2] for tup in value))\n",
        "  weekly_averages.append(sum(tup[3] for tup in value)/len(value))"
      ],
      "metadata": {
        "id": "gJw5Y3gO3LG7"
      },
      "execution_count": 88,
      "outputs": []
    },
    {
      "cell_type": "code",
      "source": [
        "\n",
        "plt.plot(totals.keys(), winners, color = 'blue', marker='o', label='Total overs - total unders')\n",
        "plt.plot(totals.keys(), differences, color = 'red', marker ='o', label='Cumulative difference between totals and ous')\n",
        "plt.plot(totals.keys(), weekly_averages, color = 'green', marker ='o', label='Average ou')\n",
        "plt.xlabel('Week')\n",
        "plt.ylabel('Total')\n",
        "plt.legend()\n",
        "plt.axhline()\n",
        "plt.show()"
      ],
      "metadata": {
        "colab": {
          "base_uri": "https://localhost:8080/",
          "height": 449
        },
        "id": "CbIG_C4X8DkE",
        "outputId": "64c0a9e7-3300-4047-e87a-0ea124216250"
      },
      "execution_count": 26,
      "outputs": [
        {
          "output_type": "display_data",
          "data": {
            "text/plain": [
              "<Figure size 640x480 with 1 Axes>"
            ],
            "image/png": "[encoded data removed]"
          },
          "metadata": {}
        }
      ]
    },
    {
      "cell_type": "markdown",
      "source": [
        "Over Under - Linear Regression Testing"
      ],
      "metadata": {
        "id": "_QbenYD_KhkR"
      }
    },
    {
      "cell_type": "code",
      "source": [
        "MY_RANDOM_STATE = 26\n",
        "\n",
        "tags =        [\"LR\", \"LDA\", \"DTC\"]\n",
        "\n",
        "results = defaultdict(list)\n",
        "\n",
        "for i in range(2, 11):\n",
        "  last_week = i\n",
        "  xtrain = []\n",
        "  ytrain = []\n",
        "  xtest = []\n",
        "  test_tags = []\n",
        "  actual = []\n",
        "\n",
        "  for index, row in df.iterrows():\n",
        "    week = int(row['week'])\n",
        "    home_spread = float(row['home_spread'])\n",
        "    home_ml = float(row['home_ml'])\n",
        "    away_ml = float(row['away_ml'])\n",
        "    ou = float(row['ou'])\n",
        "\n",
        "    home_score = int(row['home_score'])\n",
        "    away_score = int(row['away_score'])\n",
        "\n",
        "    total = home_score + away_score\n",
        "\n",
        "    appender = [home_spread, home_ml, ou, week]\n",
        "\n",
        "    # which week we want to test\n",
        "    if week == last_week:\n",
        "      xtest.append(appender)\n",
        "      test_tags.append(int(row['game_id']))\n",
        "      if total > ou:\n",
        "        actual.append(\"O\")\n",
        "      elif total < ou:\n",
        "        actual.append(\"U\")\n",
        "      else:\n",
        "        actual.append(\"P\")\n",
        "    # collect training data of all weeks except that one\n",
        "    elif week in set(i for i in range(1,last_week)):\n",
        "      xtrain.append(appender)\n",
        "      if total > ou:\n",
        "        ytrain.append(\"O\")\n",
        "      elif total < ou:\n",
        "        ytrain.append(\"U\")\n",
        "      else:\n",
        "        ytrain.append(\"P\")\n",
        "\n",
        "\n",
        "  classifiers =   [ LogisticRegression(random_state=MY_RANDOM_STATE,max_iter=1000),\n",
        "                    LinearDiscriminantAnalysis(),\n",
        "                    DecisionTreeClassifier(random_state=MY_RANDOM_STATE)]\n",
        "\n",
        "  for (tag, classifier) in zip(tags, classifiers):\n",
        "    classifier.fit(xtrain, ytrain)\n",
        "    prediction = classifier.predict(xtest)\n",
        "    accuracy = accuracy_score(actual, prediction)\n",
        "    results[tag].append(accuracy)\n",
        "\n",
        "\n",
        "for key, value in results.items():\n",
        "  print(f\"{key}: {value}\")"
      ],
      "metadata": {
        "colab": {
          "base_uri": "https://localhost:8080/"
        },
        "id": "U1pTtW-FKgjH",
        "outputId": "6cb07057-3663-4cdb-aa96-27839f109077"
      },
      "execution_count": 87,
      "outputs": [
        {
          "output_type": "stream",
          "name": "stdout",
          "text": [
            "LR: [0.1875, 0.3333333333333333, 0.4375, 0.5714285714285714, 0.7857142857142857, 0.6153846153846154, 0.5, 0.7857142857142857, 0.5]\n",
            "LDA: [0.1875, 0.3333333333333333, 0.4375, 0.5714285714285714, 0.7857142857142857, 0.6153846153846154, 0.5, 0.7857142857142857, 0.5]\n",
            "DTC: [0.4375, 0.3333333333333333, 0.4375, 0.6428571428571429, 0.5714285714285714, 0.5384615384615384, 0.5, 0.35714285714285715, 0.42857142857142855]\n"
          ]
        }
      ]
    }
  ]
}